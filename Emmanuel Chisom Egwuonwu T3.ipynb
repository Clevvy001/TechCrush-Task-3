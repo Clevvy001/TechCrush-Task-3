{
 "cells": [
  {
   "cell_type": "code",
   "execution_count": 1,
   "id": "0985855c-4483-40c7-9cb1-48de9ffdd4c3",
   "metadata": {},
   "outputs": [],
   "source": [
    "#Importing relevant libraries\n",
    "\n",
    "import numpy as np\n",
    "import pandas as pd\n",
    "import matplotlib.pyplot as plt\n",
    "from calendar import month_name"
   ]
  },
  {
   "cell_type": "code",
   "execution_count": 2,
   "id": "4d22d7a0-706e-4de3-9253-89aefeba4af2",
   "metadata": {},
   "outputs": [
    {
     "data": {
      "text/html": [
       "<div>\n",
       "<style scoped>\n",
       "    .dataframe tbody tr th:only-of-type {\n",
       "        vertical-align: middle;\n",
       "    }\n",
       "\n",
       "    .dataframe tbody tr th {\n",
       "        vertical-align: top;\n",
       "    }\n",
       "\n",
       "    .dataframe thead th {\n",
       "        text-align: right;\n",
       "    }\n",
       "</style>\n",
       "<table border=\"1\" class=\"dataframe\">\n",
       "  <thead>\n",
       "    <tr style=\"text-align: right;\">\n",
       "      <th></th>\n",
       "      <th>pizza_id</th>\n",
       "      <th>pizza_type_id</th>\n",
       "      <th>size</th>\n",
       "      <th>price</th>\n",
       "    </tr>\n",
       "  </thead>\n",
       "  <tbody>\n",
       "    <tr>\n",
       "      <th>0</th>\n",
       "      <td>bbq_ckn_s</td>\n",
       "      <td>bbq_ckn</td>\n",
       "      <td>S</td>\n",
       "      <td>12.75</td>\n",
       "    </tr>\n",
       "    <tr>\n",
       "      <th>1</th>\n",
       "      <td>bbq_ckn_m</td>\n",
       "      <td>bbq_ckn</td>\n",
       "      <td>M</td>\n",
       "      <td>16.75</td>\n",
       "    </tr>\n",
       "    <tr>\n",
       "      <th>2</th>\n",
       "      <td>bbq_ckn_l</td>\n",
       "      <td>bbq_ckn</td>\n",
       "      <td>L</td>\n",
       "      <td>20.75</td>\n",
       "    </tr>\n",
       "    <tr>\n",
       "      <th>3</th>\n",
       "      <td>cali_ckn_s</td>\n",
       "      <td>cali_ckn</td>\n",
       "      <td>S</td>\n",
       "      <td>12.75</td>\n",
       "    </tr>\n",
       "    <tr>\n",
       "      <th>4</th>\n",
       "      <td>cali_ckn_m</td>\n",
       "      <td>cali_ckn</td>\n",
       "      <td>M</td>\n",
       "      <td>16.75</td>\n",
       "    </tr>\n",
       "  </tbody>\n",
       "</table>\n",
       "</div>"
      ],
      "text/plain": [
       "     pizza_id pizza_type_id size  price\n",
       "0   bbq_ckn_s       bbq_ckn    S  12.75\n",
       "1   bbq_ckn_m       bbq_ckn    M  16.75\n",
       "2   bbq_ckn_l       bbq_ckn    L  20.75\n",
       "3  cali_ckn_s      cali_ckn    S  12.75\n",
       "4  cali_ckn_m      cali_ckn    M  16.75"
      ]
     },
     "execution_count": 2,
     "metadata": {},
     "output_type": "execute_result"
    }
   ],
   "source": [
    "#Loading Datasets\n",
    "pizza_df = pd.read_csv(\"pizzas.csv\")\n",
    "pizza_df.head()"
   ]
  },
  {
   "cell_type": "code",
   "execution_count": 3,
   "id": "73220d62-3dca-4808-b0a4-4ac374bcc34d",
   "metadata": {},
   "outputs": [
    {
     "data": {
      "text/html": [
       "<div>\n",
       "<style scoped>\n",
       "    .dataframe tbody tr th:only-of-type {\n",
       "        vertical-align: middle;\n",
       "    }\n",
       "\n",
       "    .dataframe tbody tr th {\n",
       "        vertical-align: top;\n",
       "    }\n",
       "\n",
       "    .dataframe thead th {\n",
       "        text-align: right;\n",
       "    }\n",
       "</style>\n",
       "<table border=\"1\" class=\"dataframe\">\n",
       "  <thead>\n",
       "    <tr style=\"text-align: right;\">\n",
       "      <th></th>\n",
       "      <th>pizza_type_id</th>\n",
       "      <th>name</th>\n",
       "      <th>category</th>\n",
       "      <th>ingredients</th>\n",
       "    </tr>\n",
       "  </thead>\n",
       "  <tbody>\n",
       "    <tr>\n",
       "      <th>0</th>\n",
       "      <td>bbq_ckn</td>\n",
       "      <td>The Barbecue Chicken Pizza</td>\n",
       "      <td>Chicken</td>\n",
       "      <td>Barbecued Chicken, Red Peppers, Green Peppers,...</td>\n",
       "    </tr>\n",
       "    <tr>\n",
       "      <th>1</th>\n",
       "      <td>cali_ckn</td>\n",
       "      <td>The California Chicken Pizza</td>\n",
       "      <td>Chicken</td>\n",
       "      <td>Chicken, Artichoke, Spinach, Garlic, Jalapeno ...</td>\n",
       "    </tr>\n",
       "    <tr>\n",
       "      <th>2</th>\n",
       "      <td>ckn_alfredo</td>\n",
       "      <td>The Chicken Alfredo Pizza</td>\n",
       "      <td>Chicken</td>\n",
       "      <td>Chicken, Red Onions, Red Peppers, Mushrooms, A...</td>\n",
       "    </tr>\n",
       "    <tr>\n",
       "      <th>3</th>\n",
       "      <td>ckn_pesto</td>\n",
       "      <td>The Chicken Pesto Pizza</td>\n",
       "      <td>Chicken</td>\n",
       "      <td>Chicken, Tomatoes, Red Peppers, Spinach, Garli...</td>\n",
       "    </tr>\n",
       "    <tr>\n",
       "      <th>4</th>\n",
       "      <td>southw_ckn</td>\n",
       "      <td>The Southwest Chicken Pizza</td>\n",
       "      <td>Chicken</td>\n",
       "      <td>Chicken, Tomatoes, Red Peppers, Red Onions, Ja...</td>\n",
       "    </tr>\n",
       "  </tbody>\n",
       "</table>\n",
       "</div>"
      ],
      "text/plain": [
       "  pizza_type_id                          name category  \\\n",
       "0       bbq_ckn    The Barbecue Chicken Pizza  Chicken   \n",
       "1      cali_ckn  The California Chicken Pizza  Chicken   \n",
       "2   ckn_alfredo     The Chicken Alfredo Pizza  Chicken   \n",
       "3     ckn_pesto       The Chicken Pesto Pizza  Chicken   \n",
       "4    southw_ckn   The Southwest Chicken Pizza  Chicken   \n",
       "\n",
       "                                         ingredients  \n",
       "0  Barbecued Chicken, Red Peppers, Green Peppers,...  \n",
       "1  Chicken, Artichoke, Spinach, Garlic, Jalapeno ...  \n",
       "2  Chicken, Red Onions, Red Peppers, Mushrooms, A...  \n",
       "3  Chicken, Tomatoes, Red Peppers, Spinach, Garli...  \n",
       "4  Chicken, Tomatoes, Red Peppers, Red Onions, Ja...  "
      ]
     },
     "execution_count": 3,
     "metadata": {},
     "output_type": "execute_result"
    }
   ],
   "source": [
    "pizza_type_df = pd.read_csv(\"pizza_types.csv\", encoding=\"latin1\")\n",
    "pizza_type_df.head()"
   ]
  },
  {
   "cell_type": "code",
   "execution_count": 4,
   "id": "d99fcb50-a7b0-4a35-9f38-aee94e5586dc",
   "metadata": {},
   "outputs": [
    {
     "data": {
      "text/html": [
       "<div>\n",
       "<style scoped>\n",
       "    .dataframe tbody tr th:only-of-type {\n",
       "        vertical-align: middle;\n",
       "    }\n",
       "\n",
       "    .dataframe tbody tr th {\n",
       "        vertical-align: top;\n",
       "    }\n",
       "\n",
       "    .dataframe thead th {\n",
       "        text-align: right;\n",
       "    }\n",
       "</style>\n",
       "<table border=\"1\" class=\"dataframe\">\n",
       "  <thead>\n",
       "    <tr style=\"text-align: right;\">\n",
       "      <th></th>\n",
       "      <th>order_id</th>\n",
       "      <th>date</th>\n",
       "      <th>time</th>\n",
       "    </tr>\n",
       "  </thead>\n",
       "  <tbody>\n",
       "    <tr>\n",
       "      <th>0</th>\n",
       "      <td>1</td>\n",
       "      <td>2015-01-01</td>\n",
       "      <td>11:38:36</td>\n",
       "    </tr>\n",
       "    <tr>\n",
       "      <th>1</th>\n",
       "      <td>2</td>\n",
       "      <td>2015-01-01</td>\n",
       "      <td>11:57:40</td>\n",
       "    </tr>\n",
       "    <tr>\n",
       "      <th>2</th>\n",
       "      <td>3</td>\n",
       "      <td>2015-01-01</td>\n",
       "      <td>12:12:28</td>\n",
       "    </tr>\n",
       "    <tr>\n",
       "      <th>3</th>\n",
       "      <td>4</td>\n",
       "      <td>2015-01-01</td>\n",
       "      <td>12:16:31</td>\n",
       "    </tr>\n",
       "    <tr>\n",
       "      <th>4</th>\n",
       "      <td>5</td>\n",
       "      <td>2015-01-01</td>\n",
       "      <td>12:21:30</td>\n",
       "    </tr>\n",
       "  </tbody>\n",
       "</table>\n",
       "</div>"
      ],
      "text/plain": [
       "   order_id        date      time\n",
       "0         1  2015-01-01  11:38:36\n",
       "1         2  2015-01-01  11:57:40\n",
       "2         3  2015-01-01  12:12:28\n",
       "3         4  2015-01-01  12:16:31\n",
       "4         5  2015-01-01  12:21:30"
      ]
     },
     "execution_count": 4,
     "metadata": {},
     "output_type": "execute_result"
    }
   ],
   "source": [
    "orders_df = pd.read_csv(\"orders.csv\")\n",
    "orders_df.head()"
   ]
  },
  {
   "cell_type": "code",
   "execution_count": 5,
   "id": "ee9ed3f0-b506-4080-b9e2-0853596d40fe",
   "metadata": {},
   "outputs": [
    {
     "data": {
      "text/html": [
       "<div>\n",
       "<style scoped>\n",
       "    .dataframe tbody tr th:only-of-type {\n",
       "        vertical-align: middle;\n",
       "    }\n",
       "\n",
       "    .dataframe tbody tr th {\n",
       "        vertical-align: top;\n",
       "    }\n",
       "\n",
       "    .dataframe thead th {\n",
       "        text-align: right;\n",
       "    }\n",
       "</style>\n",
       "<table border=\"1\" class=\"dataframe\">\n",
       "  <thead>\n",
       "    <tr style=\"text-align: right;\">\n",
       "      <th></th>\n",
       "      <th>order_details_id</th>\n",
       "      <th>order_id</th>\n",
       "      <th>pizza_id</th>\n",
       "      <th>quantity</th>\n",
       "    </tr>\n",
       "  </thead>\n",
       "  <tbody>\n",
       "    <tr>\n",
       "      <th>0</th>\n",
       "      <td>1</td>\n",
       "      <td>1</td>\n",
       "      <td>hawaiian_m</td>\n",
       "      <td>1</td>\n",
       "    </tr>\n",
       "    <tr>\n",
       "      <th>1</th>\n",
       "      <td>2</td>\n",
       "      <td>2</td>\n",
       "      <td>classic_dlx_m</td>\n",
       "      <td>1</td>\n",
       "    </tr>\n",
       "    <tr>\n",
       "      <th>2</th>\n",
       "      <td>3</td>\n",
       "      <td>2</td>\n",
       "      <td>five_cheese_l</td>\n",
       "      <td>1</td>\n",
       "    </tr>\n",
       "    <tr>\n",
       "      <th>3</th>\n",
       "      <td>4</td>\n",
       "      <td>2</td>\n",
       "      <td>ital_supr_l</td>\n",
       "      <td>1</td>\n",
       "    </tr>\n",
       "    <tr>\n",
       "      <th>4</th>\n",
       "      <td>5</td>\n",
       "      <td>2</td>\n",
       "      <td>mexicana_m</td>\n",
       "      <td>1</td>\n",
       "    </tr>\n",
       "  </tbody>\n",
       "</table>\n",
       "</div>"
      ],
      "text/plain": [
       "   order_details_id  order_id       pizza_id  quantity\n",
       "0                 1         1     hawaiian_m         1\n",
       "1                 2         2  classic_dlx_m         1\n",
       "2                 3         2  five_cheese_l         1\n",
       "3                 4         2    ital_supr_l         1\n",
       "4                 5         2     mexicana_m         1"
      ]
     },
     "execution_count": 5,
     "metadata": {},
     "output_type": "execute_result"
    }
   ],
   "source": [
    "order_deet_df = pd.read_csv(\"order_details.csv\")\n",
    "order_deet_df.head()"
   ]
  },
  {
   "cell_type": "code",
   "execution_count": 6,
   "id": "290cc1de-f85e-4c2a-a874-5fb103140609",
   "metadata": {},
   "outputs": [
    {
     "data": {
      "text/html": [
       "<div>\n",
       "<style scoped>\n",
       "    .dataframe tbody tr th:only-of-type {\n",
       "        vertical-align: middle;\n",
       "    }\n",
       "\n",
       "    .dataframe tbody tr th {\n",
       "        vertical-align: top;\n",
       "    }\n",
       "\n",
       "    .dataframe thead th {\n",
       "        text-align: right;\n",
       "    }\n",
       "</style>\n",
       "<table border=\"1\" class=\"dataframe\">\n",
       "  <thead>\n",
       "    <tr style=\"text-align: right;\">\n",
       "      <th></th>\n",
       "      <th>order_details_id</th>\n",
       "      <th>order_id</th>\n",
       "      <th>pizza_id</th>\n",
       "      <th>quantity</th>\n",
       "      <th>date</th>\n",
       "      <th>time</th>\n",
       "    </tr>\n",
       "  </thead>\n",
       "  <tbody>\n",
       "    <tr>\n",
       "      <th>0</th>\n",
       "      <td>1</td>\n",
       "      <td>1</td>\n",
       "      <td>hawaiian_m</td>\n",
       "      <td>1</td>\n",
       "      <td>2015-01-01</td>\n",
       "      <td>11:38:36</td>\n",
       "    </tr>\n",
       "    <tr>\n",
       "      <th>1</th>\n",
       "      <td>2</td>\n",
       "      <td>2</td>\n",
       "      <td>classic_dlx_m</td>\n",
       "      <td>1</td>\n",
       "      <td>2015-01-01</td>\n",
       "      <td>11:57:40</td>\n",
       "    </tr>\n",
       "    <tr>\n",
       "      <th>2</th>\n",
       "      <td>3</td>\n",
       "      <td>2</td>\n",
       "      <td>five_cheese_l</td>\n",
       "      <td>1</td>\n",
       "      <td>2015-01-01</td>\n",
       "      <td>11:57:40</td>\n",
       "    </tr>\n",
       "    <tr>\n",
       "      <th>3</th>\n",
       "      <td>4</td>\n",
       "      <td>2</td>\n",
       "      <td>ital_supr_l</td>\n",
       "      <td>1</td>\n",
       "      <td>2015-01-01</td>\n",
       "      <td>11:57:40</td>\n",
       "    </tr>\n",
       "    <tr>\n",
       "      <th>4</th>\n",
       "      <td>5</td>\n",
       "      <td>2</td>\n",
       "      <td>mexicana_m</td>\n",
       "      <td>1</td>\n",
       "      <td>2015-01-01</td>\n",
       "      <td>11:57:40</td>\n",
       "    </tr>\n",
       "  </tbody>\n",
       "</table>\n",
       "</div>"
      ],
      "text/plain": [
       "   order_details_id  order_id       pizza_id  quantity        date      time\n",
       "0                 1         1     hawaiian_m         1  2015-01-01  11:38:36\n",
       "1                 2         2  classic_dlx_m         1  2015-01-01  11:57:40\n",
       "2                 3         2  five_cheese_l         1  2015-01-01  11:57:40\n",
       "3                 4         2    ital_supr_l         1  2015-01-01  11:57:40\n",
       "4                 5         2     mexicana_m         1  2015-01-01  11:57:40"
      ]
     },
     "execution_count": 6,
     "metadata": {},
     "output_type": "execute_result"
    }
   ],
   "source": [
    "#Merging the Four Datasets into one DataFrame\n",
    "\n",
    "order_details = order_deet_df.merge(orders_df, on= \"order_id\", how=\"left\")\n",
    "order_details.head()"
   ]
  },
  {
   "cell_type": "code",
   "execution_count": 7,
   "id": "3945b2af-cdd3-46ab-a150-523f4ce6ac99",
   "metadata": {},
   "outputs": [
    {
     "data": {
      "text/html": [
       "<div>\n",
       "<style scoped>\n",
       "    .dataframe tbody tr th:only-of-type {\n",
       "        vertical-align: middle;\n",
       "    }\n",
       "\n",
       "    .dataframe tbody tr th {\n",
       "        vertical-align: top;\n",
       "    }\n",
       "\n",
       "    .dataframe thead th {\n",
       "        text-align: right;\n",
       "    }\n",
       "</style>\n",
       "<table border=\"1\" class=\"dataframe\">\n",
       "  <thead>\n",
       "    <tr style=\"text-align: right;\">\n",
       "      <th></th>\n",
       "      <th>order_details_id</th>\n",
       "      <th>order_id</th>\n",
       "      <th>pizza_id</th>\n",
       "      <th>quantity</th>\n",
       "      <th>date</th>\n",
       "      <th>time</th>\n",
       "      <th>pizza_type_id</th>\n",
       "      <th>size</th>\n",
       "      <th>price</th>\n",
       "    </tr>\n",
       "  </thead>\n",
       "  <tbody>\n",
       "    <tr>\n",
       "      <th>0</th>\n",
       "      <td>1</td>\n",
       "      <td>1</td>\n",
       "      <td>hawaiian_m</td>\n",
       "      <td>1</td>\n",
       "      <td>2015-01-01</td>\n",
       "      <td>11:38:36</td>\n",
       "      <td>hawaiian</td>\n",
       "      <td>M</td>\n",
       "      <td>13.25</td>\n",
       "    </tr>\n",
       "    <tr>\n",
       "      <th>1</th>\n",
       "      <td>2</td>\n",
       "      <td>2</td>\n",
       "      <td>classic_dlx_m</td>\n",
       "      <td>1</td>\n",
       "      <td>2015-01-01</td>\n",
       "      <td>11:57:40</td>\n",
       "      <td>classic_dlx</td>\n",
       "      <td>M</td>\n",
       "      <td>16.00</td>\n",
       "    </tr>\n",
       "    <tr>\n",
       "      <th>2</th>\n",
       "      <td>3</td>\n",
       "      <td>2</td>\n",
       "      <td>five_cheese_l</td>\n",
       "      <td>1</td>\n",
       "      <td>2015-01-01</td>\n",
       "      <td>11:57:40</td>\n",
       "      <td>five_cheese</td>\n",
       "      <td>L</td>\n",
       "      <td>18.50</td>\n",
       "    </tr>\n",
       "    <tr>\n",
       "      <th>3</th>\n",
       "      <td>4</td>\n",
       "      <td>2</td>\n",
       "      <td>ital_supr_l</td>\n",
       "      <td>1</td>\n",
       "      <td>2015-01-01</td>\n",
       "      <td>11:57:40</td>\n",
       "      <td>ital_supr</td>\n",
       "      <td>L</td>\n",
       "      <td>20.75</td>\n",
       "    </tr>\n",
       "    <tr>\n",
       "      <th>4</th>\n",
       "      <td>5</td>\n",
       "      <td>2</td>\n",
       "      <td>mexicana_m</td>\n",
       "      <td>1</td>\n",
       "      <td>2015-01-01</td>\n",
       "      <td>11:57:40</td>\n",
       "      <td>mexicana</td>\n",
       "      <td>M</td>\n",
       "      <td>16.00</td>\n",
       "    </tr>\n",
       "  </tbody>\n",
       "</table>\n",
       "</div>"
      ],
      "text/plain": [
       "   order_details_id  order_id       pizza_id  quantity        date      time  \\\n",
       "0                 1         1     hawaiian_m         1  2015-01-01  11:38:36   \n",
       "1                 2         2  classic_dlx_m         1  2015-01-01  11:57:40   \n",
       "2                 3         2  five_cheese_l         1  2015-01-01  11:57:40   \n",
       "3                 4         2    ital_supr_l         1  2015-01-01  11:57:40   \n",
       "4                 5         2     mexicana_m         1  2015-01-01  11:57:40   \n",
       "\n",
       "  pizza_type_id size  price  \n",
       "0      hawaiian    M  13.25  \n",
       "1   classic_dlx    M  16.00  \n",
       "2   five_cheese    L  18.50  \n",
       "3     ital_supr    L  20.75  \n",
       "4      mexicana    M  16.00  "
      ]
     },
     "execution_count": 7,
     "metadata": {},
     "output_type": "execute_result"
    }
   ],
   "source": [
    "order_details = order_details.merge(pizza_df, on=\"pizza_id\", how=\"left\")\n",
    "order_details.head()"
   ]
  },
  {
   "cell_type": "code",
   "execution_count": 8,
   "id": "407bf6eb-1283-4759-8472-b05d207a2267",
   "metadata": {},
   "outputs": [
    {
     "data": {
      "text/html": [
       "<div>\n",
       "<style scoped>\n",
       "    .dataframe tbody tr th:only-of-type {\n",
       "        vertical-align: middle;\n",
       "    }\n",
       "\n",
       "    .dataframe tbody tr th {\n",
       "        vertical-align: top;\n",
       "    }\n",
       "\n",
       "    .dataframe thead th {\n",
       "        text-align: right;\n",
       "    }\n",
       "</style>\n",
       "<table border=\"1\" class=\"dataframe\">\n",
       "  <thead>\n",
       "    <tr style=\"text-align: right;\">\n",
       "      <th></th>\n",
       "      <th>order_details_id</th>\n",
       "      <th>order_id</th>\n",
       "      <th>pizza_id</th>\n",
       "      <th>quantity</th>\n",
       "      <th>date</th>\n",
       "      <th>time</th>\n",
       "      <th>pizza_type_id</th>\n",
       "      <th>size</th>\n",
       "      <th>price</th>\n",
       "      <th>name</th>\n",
       "      <th>category</th>\n",
       "      <th>ingredients</th>\n",
       "    </tr>\n",
       "  </thead>\n",
       "  <tbody>\n",
       "    <tr>\n",
       "      <th>0</th>\n",
       "      <td>1</td>\n",
       "      <td>1</td>\n",
       "      <td>hawaiian_m</td>\n",
       "      <td>1</td>\n",
       "      <td>2015-01-01</td>\n",
       "      <td>11:38:36</td>\n",
       "      <td>hawaiian</td>\n",
       "      <td>M</td>\n",
       "      <td>13.25</td>\n",
       "      <td>The Hawaiian Pizza</td>\n",
       "      <td>Classic</td>\n",
       "      <td>Sliced Ham, Pineapple, Mozzarella Cheese</td>\n",
       "    </tr>\n",
       "    <tr>\n",
       "      <th>1</th>\n",
       "      <td>2</td>\n",
       "      <td>2</td>\n",
       "      <td>classic_dlx_m</td>\n",
       "      <td>1</td>\n",
       "      <td>2015-01-01</td>\n",
       "      <td>11:57:40</td>\n",
       "      <td>classic_dlx</td>\n",
       "      <td>M</td>\n",
       "      <td>16.00</td>\n",
       "      <td>The Classic Deluxe Pizza</td>\n",
       "      <td>Classic</td>\n",
       "      <td>Pepperoni, Mushrooms, Red Onions, Red Peppers,...</td>\n",
       "    </tr>\n",
       "    <tr>\n",
       "      <th>2</th>\n",
       "      <td>3</td>\n",
       "      <td>2</td>\n",
       "      <td>five_cheese_l</td>\n",
       "      <td>1</td>\n",
       "      <td>2015-01-01</td>\n",
       "      <td>11:57:40</td>\n",
       "      <td>five_cheese</td>\n",
       "      <td>L</td>\n",
       "      <td>18.50</td>\n",
       "      <td>The Five Cheese Pizza</td>\n",
       "      <td>Veggie</td>\n",
       "      <td>Mozzarella Cheese, Provolone Cheese, Smoked Go...</td>\n",
       "    </tr>\n",
       "    <tr>\n",
       "      <th>3</th>\n",
       "      <td>4</td>\n",
       "      <td>2</td>\n",
       "      <td>ital_supr_l</td>\n",
       "      <td>1</td>\n",
       "      <td>2015-01-01</td>\n",
       "      <td>11:57:40</td>\n",
       "      <td>ital_supr</td>\n",
       "      <td>L</td>\n",
       "      <td>20.75</td>\n",
       "      <td>The Italian Supreme Pizza</td>\n",
       "      <td>Supreme</td>\n",
       "      <td>Calabrese Salami, Capocollo, Tomatoes, Red Oni...</td>\n",
       "    </tr>\n",
       "    <tr>\n",
       "      <th>4</th>\n",
       "      <td>5</td>\n",
       "      <td>2</td>\n",
       "      <td>mexicana_m</td>\n",
       "      <td>1</td>\n",
       "      <td>2015-01-01</td>\n",
       "      <td>11:57:40</td>\n",
       "      <td>mexicana</td>\n",
       "      <td>M</td>\n",
       "      <td>16.00</td>\n",
       "      <td>The Mexicana Pizza</td>\n",
       "      <td>Veggie</td>\n",
       "      <td>Tomatoes, Red Peppers, Jalapeno Peppers, Red O...</td>\n",
       "    </tr>\n",
       "  </tbody>\n",
       "</table>\n",
       "</div>"
      ],
      "text/plain": [
       "   order_details_id  order_id       pizza_id  quantity        date      time  \\\n",
       "0                 1         1     hawaiian_m         1  2015-01-01  11:38:36   \n",
       "1                 2         2  classic_dlx_m         1  2015-01-01  11:57:40   \n",
       "2                 3         2  five_cheese_l         1  2015-01-01  11:57:40   \n",
       "3                 4         2    ital_supr_l         1  2015-01-01  11:57:40   \n",
       "4                 5         2     mexicana_m         1  2015-01-01  11:57:40   \n",
       "\n",
       "  pizza_type_id size  price                       name category  \\\n",
       "0      hawaiian    M  13.25         The Hawaiian Pizza  Classic   \n",
       "1   classic_dlx    M  16.00   The Classic Deluxe Pizza  Classic   \n",
       "2   five_cheese    L  18.50      The Five Cheese Pizza   Veggie   \n",
       "3     ital_supr    L  20.75  The Italian Supreme Pizza  Supreme   \n",
       "4      mexicana    M  16.00         The Mexicana Pizza   Veggie   \n",
       "\n",
       "                                         ingredients  \n",
       "0           Sliced Ham, Pineapple, Mozzarella Cheese  \n",
       "1  Pepperoni, Mushrooms, Red Onions, Red Peppers,...  \n",
       "2  Mozzarella Cheese, Provolone Cheese, Smoked Go...  \n",
       "3  Calabrese Salami, Capocollo, Tomatoes, Red Oni...  \n",
       "4  Tomatoes, Red Peppers, Jalapeno Peppers, Red O...  "
      ]
     },
     "execution_count": 8,
     "metadata": {},
     "output_type": "execute_result"
    }
   ],
   "source": [
    "full_data = order_details.merge(pizza_type_df, on=\"pizza_type_id\", how=\"left\")\n",
    "full_data.head()"
   ]
  },
  {
   "cell_type": "markdown",
   "id": "b535a66d-1eeb-412f-a359-ddeb64177556",
   "metadata": {},
   "source": [
    "### **Exploring the DataFrame**"
   ]
  },
  {
   "cell_type": "code",
   "execution_count": 9,
   "id": "2f8a4cc2-eade-4016-84ed-a63fa003ecae",
   "metadata": {},
   "outputs": [
    {
     "data": {
      "text/plain": [
       "(48620, 12)"
      ]
     },
     "execution_count": 9,
     "metadata": {},
     "output_type": "execute_result"
    }
   ],
   "source": [
    "#Checking the Number of rows and columns\n",
    "\n",
    "full_data.shape"
   ]
  },
  {
   "cell_type": "code",
   "execution_count": 10,
   "id": "bd018b06-fafb-4e8d-9637-22a38b620a4e",
   "metadata": {},
   "outputs": [
    {
     "name": "stdout",
     "output_type": "stream",
     "text": [
      "<class 'pandas.core.frame.DataFrame'>\n",
      "RangeIndex: 48620 entries, 0 to 48619\n",
      "Data columns (total 12 columns):\n",
      " #   Column            Non-Null Count  Dtype  \n",
      "---  ------            --------------  -----  \n",
      " 0   order_details_id  48620 non-null  int64  \n",
      " 1   order_id          48620 non-null  int64  \n",
      " 2   pizza_id          48620 non-null  object \n",
      " 3   quantity          48620 non-null  int64  \n",
      " 4   date              48620 non-null  object \n",
      " 5   time              48620 non-null  object \n",
      " 6   pizza_type_id     48620 non-null  object \n",
      " 7   size              48620 non-null  object \n",
      " 8   price             48620 non-null  float64\n",
      " 9   name              48620 non-null  object \n",
      " 10  category          48620 non-null  object \n",
      " 11  ingredients       48620 non-null  object \n",
      "dtypes: float64(1), int64(3), object(8)\n",
      "memory usage: 4.5+ MB\n"
     ]
    }
   ],
   "source": [
    "#Checking the Datatypes info\n",
    "\n",
    "full_data.info()"
   ]
  },
  {
   "cell_type": "code",
   "execution_count": 11,
   "id": "92be6b8a-b3fc-4ee0-9355-2fea7fa3ab4e",
   "metadata": {},
   "outputs": [
    {
     "data": {
      "text/plain": [
       "order_details_id    0\n",
       "order_id            0\n",
       "pizza_id            0\n",
       "quantity            0\n",
       "date                0\n",
       "time                0\n",
       "pizza_type_id       0\n",
       "size                0\n",
       "price               0\n",
       "name                0\n",
       "category            0\n",
       "ingredients         0\n",
       "dtype: int64"
      ]
     },
     "execution_count": 11,
     "metadata": {},
     "output_type": "execute_result"
    }
   ],
   "source": [
    "#Checking for null values\n",
    "\n",
    "full_data.isnull().sum()"
   ]
  },
  {
   "cell_type": "code",
   "execution_count": 12,
   "id": "2b8a362b-ae6e-43d3-b39b-419b7ac951aa",
   "metadata": {},
   "outputs": [
    {
     "data": {
      "text/plain": [
       "np.int64(0)"
      ]
     },
     "execution_count": 12,
     "metadata": {},
     "output_type": "execute_result"
    }
   ],
   "source": [
    "#Checking for Duplicated values\n",
    "\n",
    "full_data.duplicated().sum()"
   ]
  },
  {
   "cell_type": "code",
   "execution_count": 13,
   "id": "cdab7515-5af3-49e7-8015-d0bd9900662f",
   "metadata": {},
   "outputs": [
    {
     "name": "stdout",
     "output_type": "stream",
     "text": [
      "<class 'pandas.core.frame.DataFrame'>\n",
      "RangeIndex: 48620 entries, 0 to 48619\n",
      "Data columns (total 12 columns):\n",
      " #   Column            Non-Null Count  Dtype         \n",
      "---  ------            --------------  -----         \n",
      " 0   order_details_id  48620 non-null  int64         \n",
      " 1   order_id          48620 non-null  int64         \n",
      " 2   pizza_id          48620 non-null  object        \n",
      " 3   quantity          48620 non-null  int64         \n",
      " 4   date              48620 non-null  datetime64[ns]\n",
      " 5   time              48620 non-null  datetime64[ns]\n",
      " 6   pizza_type_id     48620 non-null  object        \n",
      " 7   size              48620 non-null  object        \n",
      " 8   price             48620 non-null  float64       \n",
      " 9   name              48620 non-null  object        \n",
      " 10  category          48620 non-null  object        \n",
      " 11  ingredients       48620 non-null  object        \n",
      "dtypes: datetime64[ns](2), float64(1), int64(3), object(6)\n",
      "memory usage: 4.5+ MB\n"
     ]
    }
   ],
   "source": [
    "#Passing Datetime columns to the appropriate datatype\n",
    "\n",
    "full_data[\"date\"] = pd.to_datetime(full_data[\"date\"], errors=\"coerce\")\n",
    "full_data[\"time\"] = pd.to_datetime(full_data[\"time\"], format=\"%H:%M:%S\", errors=\"coerce\")\n",
    "full_data.info()"
   ]
  },
  {
   "cell_type": "code",
   "execution_count": 14,
   "id": "454a9f26-b1ad-4963-aeb1-5539c4017010",
   "metadata": {},
   "outputs": [
    {
     "data": {
      "text/html": [
       "<div>\n",
       "<style scoped>\n",
       "    .dataframe tbody tr th:only-of-type {\n",
       "        vertical-align: middle;\n",
       "    }\n",
       "\n",
       "    .dataframe tbody tr th {\n",
       "        vertical-align: top;\n",
       "    }\n",
       "\n",
       "    .dataframe thead th {\n",
       "        text-align: right;\n",
       "    }\n",
       "</style>\n",
       "<table border=\"1\" class=\"dataframe\">\n",
       "  <thead>\n",
       "    <tr style=\"text-align: right;\">\n",
       "      <th></th>\n",
       "      <th>order_details_id</th>\n",
       "      <th>order_id</th>\n",
       "      <th>pizza_id</th>\n",
       "      <th>quantity</th>\n",
       "      <th>date</th>\n",
       "      <th>time</th>\n",
       "      <th>pizza_type_id</th>\n",
       "      <th>size</th>\n",
       "      <th>price</th>\n",
       "      <th>name</th>\n",
       "      <th>category</th>\n",
       "      <th>ingredients</th>\n",
       "    </tr>\n",
       "  </thead>\n",
       "  <tbody>\n",
       "    <tr>\n",
       "      <th>0</th>\n",
       "      <td>1</td>\n",
       "      <td>1</td>\n",
       "      <td>hawaiian_m</td>\n",
       "      <td>1</td>\n",
       "      <td>2015-01-01</td>\n",
       "      <td>1900-01-01 11:38:36</td>\n",
       "      <td>hawaiian</td>\n",
       "      <td>M</td>\n",
       "      <td>13.25</td>\n",
       "      <td>The Hawaiian Pizza</td>\n",
       "      <td>Classic</td>\n",
       "      <td>Sliced Ham, Pineapple, Mozzarella Cheese</td>\n",
       "    </tr>\n",
       "    <tr>\n",
       "      <th>1</th>\n",
       "      <td>2</td>\n",
       "      <td>2</td>\n",
       "      <td>classic_dlx_m</td>\n",
       "      <td>1</td>\n",
       "      <td>2015-01-01</td>\n",
       "      <td>1900-01-01 11:57:40</td>\n",
       "      <td>classic_dlx</td>\n",
       "      <td>M</td>\n",
       "      <td>16.00</td>\n",
       "      <td>The Classic Deluxe Pizza</td>\n",
       "      <td>Classic</td>\n",
       "      <td>Pepperoni, Mushrooms, Red Onions, Red Peppers,...</td>\n",
       "    </tr>\n",
       "    <tr>\n",
       "      <th>2</th>\n",
       "      <td>3</td>\n",
       "      <td>2</td>\n",
       "      <td>five_cheese_l</td>\n",
       "      <td>1</td>\n",
       "      <td>2015-01-01</td>\n",
       "      <td>1900-01-01 11:57:40</td>\n",
       "      <td>five_cheese</td>\n",
       "      <td>L</td>\n",
       "      <td>18.50</td>\n",
       "      <td>The Five Cheese Pizza</td>\n",
       "      <td>Veggie</td>\n",
       "      <td>Mozzarella Cheese, Provolone Cheese, Smoked Go...</td>\n",
       "    </tr>\n",
       "    <tr>\n",
       "      <th>3</th>\n",
       "      <td>4</td>\n",
       "      <td>2</td>\n",
       "      <td>ital_supr_l</td>\n",
       "      <td>1</td>\n",
       "      <td>2015-01-01</td>\n",
       "      <td>1900-01-01 11:57:40</td>\n",
       "      <td>ital_supr</td>\n",
       "      <td>L</td>\n",
       "      <td>20.75</td>\n",
       "      <td>The Italian Supreme Pizza</td>\n",
       "      <td>Supreme</td>\n",
       "      <td>Calabrese Salami, Capocollo, Tomatoes, Red Oni...</td>\n",
       "    </tr>\n",
       "    <tr>\n",
       "      <th>4</th>\n",
       "      <td>5</td>\n",
       "      <td>2</td>\n",
       "      <td>mexicana_m</td>\n",
       "      <td>1</td>\n",
       "      <td>2015-01-01</td>\n",
       "      <td>1900-01-01 11:57:40</td>\n",
       "      <td>mexicana</td>\n",
       "      <td>M</td>\n",
       "      <td>16.00</td>\n",
       "      <td>The Mexicana Pizza</td>\n",
       "      <td>Veggie</td>\n",
       "      <td>Tomatoes, Red Peppers, Jalapeno Peppers, Red O...</td>\n",
       "    </tr>\n",
       "  </tbody>\n",
       "</table>\n",
       "</div>"
      ],
      "text/plain": [
       "   order_details_id  order_id       pizza_id  quantity       date  \\\n",
       "0                 1         1     hawaiian_m         1 2015-01-01   \n",
       "1                 2         2  classic_dlx_m         1 2015-01-01   \n",
       "2                 3         2  five_cheese_l         1 2015-01-01   \n",
       "3                 4         2    ital_supr_l         1 2015-01-01   \n",
       "4                 5         2     mexicana_m         1 2015-01-01   \n",
       "\n",
       "                 time pizza_type_id size  price                       name  \\\n",
       "0 1900-01-01 11:38:36      hawaiian    M  13.25         The Hawaiian Pizza   \n",
       "1 1900-01-01 11:57:40   classic_dlx    M  16.00   The Classic Deluxe Pizza   \n",
       "2 1900-01-01 11:57:40   five_cheese    L  18.50      The Five Cheese Pizza   \n",
       "3 1900-01-01 11:57:40     ital_supr    L  20.75  The Italian Supreme Pizza   \n",
       "4 1900-01-01 11:57:40      mexicana    M  16.00         The Mexicana Pizza   \n",
       "\n",
       "  category                                        ingredients  \n",
       "0  Classic           Sliced Ham, Pineapple, Mozzarella Cheese  \n",
       "1  Classic  Pepperoni, Mushrooms, Red Onions, Red Peppers,...  \n",
       "2   Veggie  Mozzarella Cheese, Provolone Cheese, Smoked Go...  \n",
       "3  Supreme  Calabrese Salami, Capocollo, Tomatoes, Red Oni...  \n",
       "4   Veggie  Tomatoes, Red Peppers, Jalapeno Peppers, Red O...  "
      ]
     },
     "execution_count": 14,
     "metadata": {},
     "output_type": "execute_result"
    }
   ],
   "source": [
    "full_data.head()"
   ]
  },
  {
   "cell_type": "markdown",
   "id": "1911e613-2338-4ebd-a457-70a1434d81ca",
   "metadata": {},
   "source": [
    "## **Exploratory Data Analysis**"
   ]
  },
  {
   "cell_type": "markdown",
   "id": "d0553152-dd2c-4834-839e-24fdd45ad939",
   "metadata": {},
   "source": [
    "### 1. Find the Total Revenue/Sales"
   ]
  },
  {
   "cell_type": "code",
   "execution_count": 15,
   "id": "0c81952f-2413-44ef-bec3-952471bae3d9",
   "metadata": {},
   "outputs": [
    {
     "name": "stdout",
     "output_type": "stream",
     "text": [
      "The Total Revenue is $817860.05\n"
     ]
    }
   ],
   "source": [
    "#Find the Total Revenue/Sales\n",
    "\n",
    "full_data[\"total revenue\"] = full_data[\"quantity\"] * full_data[\"price\"]\n",
    "total_revenue = full_data[\"total revenue\"].sum()\n",
    "print(f\"The Total Revenue is ${total_revenue}\")"
   ]
  },
  {
   "cell_type": "markdown",
   "id": "8469c49e-dcde-4d25-b8bd-d3b6c968b746",
   "metadata": {},
   "source": [
    "##### The Total Revenue/Sales is $817860.05"
   ]
  },
  {
   "cell_type": "markdown",
   "id": "8bec87ff-5460-44e0-a228-73696692bf19",
   "metadata": {},
   "source": [
    "### 2. Find the Total Quantity Sold"
   ]
  },
  {
   "cell_type": "code",
   "execution_count": 16,
   "id": "8ceefaec-e44a-4d4e-bb7b-aae91892b53c",
   "metadata": {},
   "outputs": [
    {
     "name": "stdout",
     "output_type": "stream",
     "text": [
      "The Total Quantity sold is 49574\n"
     ]
    }
   ],
   "source": [
    "#Find the Total Quantity Sold\n",
    "\n",
    "total_quantity = full_data[\"quantity\"].sum()\n",
    "print(f\"The Total Quantity sold is {total_quantity}\")"
   ]
  },
  {
   "cell_type": "markdown",
   "id": "6351544b-2ca3-4b65-93c1-479f7735da13",
   "metadata": {},
   "source": [
    "##### The Total Quantity sold is 49574"
   ]
  },
  {
   "cell_type": "markdown",
   "id": "ec5b641f-4506-4f76-9129-ccb63c622ee5",
   "metadata": {},
   "source": [
    "### 3. Find the Total Orders"
   ]
  },
  {
   "cell_type": "code",
   "execution_count": 17,
   "id": "c02198a0-a709-4449-8d34-3bed69536a57",
   "metadata": {},
   "outputs": [
    {
     "name": "stdout",
     "output_type": "stream",
     "text": [
      "The Total Orders is 21350\n"
     ]
    }
   ],
   "source": [
    "#Find the Total Orders\n",
    "\n",
    "total_orders = full_data[\"order_id\"].nunique()\n",
    "print(f\"The Total Orders is {total_orders}\")"
   ]
  },
  {
   "cell_type": "markdown",
   "id": "77f5b1ce-7627-4551-8532-88d5991961e6",
   "metadata": {},
   "source": [
    "##### The Total Orders is 21350"
   ]
  },
  {
   "cell_type": "markdown",
   "id": "5e976d46-c041-4723-99ab-11490b877ab7",
   "metadata": {},
   "source": [
    "### 4. Find the Number of Pizza Types"
   ]
  },
  {
   "cell_type": "code",
   "execution_count": 18,
   "id": "0e69fa5b-b4ce-4554-8c26-09d1cf97cc60",
   "metadata": {},
   "outputs": [
    {
     "name": "stdout",
     "output_type": "stream",
     "text": [
      "There are 32 pizza types\n"
     ]
    }
   ],
   "source": [
    "#Find the Number of Pizza Types\n",
    "\n",
    "pizza_types = full_data[\"pizza_type_id\"].nunique()\n",
    "print(f\"There are {pizza_types} pizza types\")"
   ]
  },
  {
   "cell_type": "markdown",
   "id": "8906c7a8-0139-4e91-a60f-771918e87946",
   "metadata": {},
   "source": [
    "##### There are 32 pizza types"
   ]
  },
  {
   "cell_type": "markdown",
   "id": "464420f5-7410-49cd-9bf9-6c59fbd76627",
   "metadata": {},
   "source": [
    "### 5. Find the Average Price of the Pizzas"
   ]
  },
  {
   "cell_type": "code",
   "execution_count": 19,
   "id": "9e1355e4-f8c5-4b87-998b-3fc78a22ff68",
   "metadata": {},
   "outputs": [
    {
     "name": "stdout",
     "output_type": "stream",
     "text": [
      "The average price of the pizzas is $16.494132044426163\n"
     ]
    }
   ],
   "source": [
    "#Find the Average Price of the Pizzas\n",
    "\n",
    "average_price = full_data[\"price\"].mean()\n",
    "print(f\"The average price of the pizzas is ${average_price}\")"
   ]
  },
  {
   "cell_type": "markdown",
   "id": "9ebdba6f-d287-4cdb-8a84-34923dd2f3e4",
   "metadata": {},
   "source": [
    "##### The average price of the pizzas is $16.494132044426163"
   ]
  },
  {
   "cell_type": "markdown",
   "id": "9f766916-5114-4b25-92db-058b4b3752ef",
   "metadata": {},
   "source": [
    "### 6. Find the Peak Hours of Sales"
   ]
  },
  {
   "cell_type": "code",
   "execution_count": 20,
   "id": "aeabee04-6e9a-4d01-b6bf-926dcdb85718",
   "metadata": {},
   "outputs": [
    {
     "data": {
      "text/plain": [
       "Index([12, 13], dtype='int32', name='sales hour')"
      ]
     },
     "execution_count": 20,
     "metadata": {},
     "output_type": "execute_result"
    }
   ],
   "source": [
    "#Find the Peak Hours of Sales\n",
    "\n",
    "full_data[\"sales hour\"] = pd.to_datetime(full_data[\"time\"], format=\"%H:%M:%S\").dt.hour\n",
    "sales_by_hour = full_data.groupby(\"sales hour\")[\"total revenue\"].sum()\n",
    "peak_hours = sales_by_hour.nlargest(2).index\n",
    "peak_hours"
   ]
  },
  {
   "cell_type": "markdown",
   "id": "549bab1e-db2b-4782-ba4b-1cb3d1c496d7",
   "metadata": {},
   "source": [
    "##### Based on the analysis conducted, the peak hours of sales are 12 noon and 1 o'clock pm"
   ]
  },
  {
   "cell_type": "code",
   "execution_count": 21,
   "id": "e1621413-b58d-469e-847d-90c33a4ee66b",
   "metadata": {},
   "outputs": [
    {
     "data": {
      "image/png": "[encoded data removed]",
      "text/plain": [
       "<Figure size 640x480 with 1 Axes>"
      ]
     },
     "metadata": {},
     "output_type": "display_data"
    }
   ],
   "source": [
    "#Barchart that shows pizza sales by hour of the day\n",
    "\n",
    "colors = [\"blue\" if hour in peak_hours else \"navy\" for hour in sales_by_hour.index]\n",
    "fig, ax = plt.subplots()\n",
    "plt.bar(sales_by_hour.index, sales_by_hour.values, color=colors)\n",
    "plt.title(\"Pizza Sales by Hour of the Day\")\n",
    "plt.xlabel(\"Hour of Day\")\n",
    "plt.ylabel(\"Total Sales\")\n",
    "plt.show()"
   ]
  },
  {
   "cell_type": "markdown",
   "id": "61d22238-5015-4ffe-9d64-73379a95cdc5",
   "metadata": {},
   "source": [
    "### 7. Find the total sales made on each day of the week. \n",
    "### Which day of the week is when sales are made the most?\n"
   ]
  },
  {
   "cell_type": "code",
   "execution_count": 22,
   "id": "2716c66c-bd4c-4713-926b-67de2016020b",
   "metadata": {},
   "outputs": [
    {
     "data": {
      "text/plain": [
       "'Friday'"
      ]
     },
     "execution_count": 22,
     "metadata": {},
     "output_type": "execute_result"
    }
   ],
   "source": [
    "#Finding the total sales made on each day of the week\n",
    "\n",
    "full_data[\"sales day\"] = pd.to_datetime(full_data[\"date\"]).dt.day_name()\n",
    "sales_by_day = full_data.groupby(\"sales day\")[\"total revenue\"].sum()\n",
    "days_order = [\"Monday\", \"Tuesday\", \"Wednesday\", \"Thursday\", \"Friday\", \"Saturday\", \"Sunday\"]\n",
    "sales_by_day = sales_by_day.reindex(days_order)\n",
    "\n",
    "#Finding the peak sale day\n",
    "peak_sale_day = sales_by_day.idxmax()\n",
    "peak_sale_day"
   ]
  },
  {
   "cell_type": "markdown",
   "id": "0b715c0c-0dec-4e10-9bdf-5097fab600ab",
   "metadata": {},
   "source": [
    "##### The peak sale day is **Friday**"
   ]
  },
  {
   "cell_type": "code",
   "execution_count": 23,
   "id": "64ed0a41-9a8e-4b18-b753-c5601640e5ac",
   "metadata": {},
   "outputs": [
    {
     "data": {
      "image/png": "[encoded data removed]",
      "text/plain": [
       "<Figure size 640x480 with 1 Axes>"
      ]
     },
     "metadata": {},
     "output_type": "display_data"
    }
   ],
   "source": [
    "#A Barchart that shows the total sales made on each day of the week and the peak sale day\n",
    "\n",
    "colors = [\"orange\" if day == peak_sale_day else \"teal\" for day in sales_by_day.index]\n",
    "plt.bar(sales_by_day.index, sales_by_day.values, color=colors)\n",
    "plt.title(\"Total Sales by Day of the Week\")\n",
    "plt.xlabel(\"Day of the Week\")\n",
    "plt.ylabel(\"Total Sales ($)\")\n",
    "plt.xticks(rotation=90)\n",
    "plt.show()"
   ]
  },
  {
   "cell_type": "markdown",
   "id": "36544a2c-9b0a-40bc-9746-3bb1a3c7584f",
   "metadata": {},
   "source": [
    "### 8. Find the top 5 bestselling pizzas\n"
   ]
  },
  {
   "cell_type": "code",
   "execution_count": 24,
   "id": "bb6636f2-2af0-48cd-b352-017aa36e813b",
   "metadata": {},
   "outputs": [
    {
     "data": {
      "text/plain": [
       "name\n",
       "The Classic Deluxe Pizza      2453\n",
       "The Barbecue Chicken Pizza    2432\n",
       "The Hawaiian Pizza            2422\n",
       "The Pepperoni Pizza           2418\n",
       "The Thai Chicken Pizza        2371\n",
       "Name: quantity, dtype: int64"
      ]
     },
     "execution_count": 24,
     "metadata": {},
     "output_type": "execute_result"
    }
   ],
   "source": [
    "#Finding the top 5 bestselling pizzas\n",
    "\n",
    "top_pizzas = full_data.groupby(\"name\")[\"quantity\"].sum().sort_values(ascending=False).head(5)\n",
    "top_pizzas"
   ]
  },
  {
   "cell_type": "markdown",
   "id": "5178bce9-34dc-4277-916b-cb3da6dc67e2",
   "metadata": {},
   "source": [
    "##### The Top 5 bestselling pizzas are **The Classic Deluxe Pizza**, **The Barbecue Chicken Pizza**, **The Hawaiian Pizza**, **The Pepperoni Pizza**, **The Thai Chicken Pizza**"
   ]
  },
  {
   "cell_type": "markdown",
   "id": "5ca69315-cd46-43e5-9b58-3d64994d9891",
   "metadata": {},
   "source": [
    "### 9. Find the sales made in each month. Any trend noticeable?\n"
   ]
  },
  {
   "cell_type": "code",
   "execution_count": 25,
   "id": "090a5e33-6428-4a04-8329-3d59e086e258",
   "metadata": {},
   "outputs": [
    {
     "data": {
      "text/plain": [
       "month\n",
       "January      69793.30\n",
       "February     65159.60\n",
       "March        70397.10\n",
       "April        68736.80\n",
       "May          71402.75\n",
       "June         68230.20\n",
       "July         72557.90\n",
       "August       68278.25\n",
       "September    64180.05\n",
       "October      64027.60\n",
       "November     70395.35\n",
       "December     64701.15\n",
       "Name: total revenue, dtype: float64"
      ]
     },
     "execution_count": 25,
     "metadata": {},
     "output_type": "execute_result"
    }
   ],
   "source": [
    "#Finding the sales made in each month\n",
    "\n",
    "full_data[\"month\"] = full_data[\"date\"].dt.month_name()\n",
    "monthly_sales = full_data.groupby(\"month\")[\"total revenue\"].sum()\n",
    "monthly_sales = monthly_sales.reindex(list(month_name)[1:])\n",
    "monthly_sales"
   ]
  },
  {
   "cell_type": "code",
   "execution_count": 26,
   "id": "8ee91d76-9cd0-436a-909a-a5636136dfec",
   "metadata": {},
   "outputs": [
    {
     "data": {
      "image/png": "[encoded data removed]",
      "text/plain": [
       "<Figure size 640x480 with 1 Axes>"
      ]
     },
     "metadata": {},
     "output_type": "display_data"
    }
   ],
   "source": [
    "#A lineplot that depicts the trend of monthly sales\n",
    "\n",
    "plt.plot(monthly_sales.index, monthly_sales.values)\n",
    "plt.title(\"Monthly Pizza Sales Revenue\")\n",
    "plt.xlabel(\"Month\")\n",
    "plt.ylabel(\"Total Revenue ($)\")\n",
    "plt.xticks(rotation=90)\n",
    "plt.show()"
   ]
  },
  {
   "cell_type": "markdown",
   "id": "130ba937-ee49-4630-9c0a-e431f4172b20",
   "metadata": {},
   "source": [
    "##### The lineplot shows an uptrend in sales from February to August followed by a decline in sales during the months of september, october and december. Based on this analysis, there isn't a consistent trend of sales over the months."
   ]
  },
  {
   "cell_type": "markdown",
   "id": "6870e5dd-d813-4b0f-8d1c-d09f81a72f30",
   "metadata": {},
   "source": [
    "### 10. Are there pizza types that are not doing well on the menu?\n"
   ]
  },
  {
   "cell_type": "code",
   "execution_count": 27,
   "id": "9374d99d-b97c-46ab-b426-0dae0d75f1c8",
   "metadata": {},
   "outputs": [
    {
     "data": {
      "text/plain": [
       "pizza_type_id\n",
       "brie_carre      490\n",
       "mediterraneo    934\n",
       "calabrese       937\n",
       "spinach_supr    950\n",
       "soppressata     961\n",
       "spin_pesto      970\n",
       "ckn_pesto       973\n",
       "ital_veggie     981\n",
       "ckn_alfredo     987\n",
       "green_garden    997\n",
       "Name: quantity, dtype: int64"
      ]
     },
     "execution_count": 27,
     "metadata": {},
     "output_type": "execute_result"
    }
   ],
   "source": [
    "#Finding low performing pizzas on the menu\n",
    "\n",
    "pizza_types = full_data.groupby(\"pizza_type_id\")[\"quantity\"].sum().sort_values()\n",
    "pizza_types.head(10)"
   ]
  },
  {
   "cell_type": "markdown",
   "id": "f80c2814-f4a0-49d5-b8c3-77c83b261237",
   "metadata": {},
   "source": [
    "##### The lowest performing pizzas on the menu are: brie_carre, mediterraneo, calabrese, spinach_supr, soppressata, spin_pesto, ckn_pesto, ital_veggie, ckn_alfredo, green_garden\n"
   ]
  },
  {
   "cell_type": "code",
   "execution_count": 28,
   "id": "8bf56edd-ffaf-4dd8-8250-b75a992051ac",
   "metadata": {},
   "outputs": [],
   "source": [
    "#Dropping irrelevant columns\n",
    "full_data = full_data.drop([\"order_id\", \"pizza_id\", \"date\", \"time\"], axis=1)"
   ]
  },
  {
   "cell_type": "code",
   "execution_count": 29,
   "id": "218bbc40-dd83-4e24-a66e-d0c33578f231",
   "metadata": {},
   "outputs": [],
   "source": [
    "#Setting index\n",
    "full_data.set_index(\"order_details_id\", inplace=True)"
   ]
  },
  {
   "cell_type": "code",
   "execution_count": 30,
   "id": "34ee4b06-f804-49f2-8300-3f894c233f59",
   "metadata": {},
   "outputs": [],
   "source": [
    "#Saving the new dataset\n",
    "full_data.to_csv(\"clean data for pizza sales.csv\", index=False)"
   ]
  },
  {
   "cell_type": "code",
   "execution_count": null,
   "id": "d16229c2-4b82-4914-b4dd-714dd9f77903",
   "metadata": {},
   "outputs": [],
   "source": []
  }
 ],
 "metadata": {
  "kernelspec": {
   "display_name": "Python [conda env:base] *",
   "language": "python",
   "name": "conda-base-py"
  },
  "language_info": {
   "codemirror_mode": {
    "name": "ipython",
    "version": 3
   },
   "file_extension": ".py",
   "mimetype": "text/x-python",
   "name": "python",
   "nbconvert_exporter": "python",
   "pygments_lexer": "ipython3",
   "version": "3.13.5"
  }
 },
 "nbformat": 4,
 "nbformat_minor": 5
}
